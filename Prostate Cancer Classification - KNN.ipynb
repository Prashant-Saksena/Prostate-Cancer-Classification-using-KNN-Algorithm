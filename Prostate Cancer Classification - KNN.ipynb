{
 "cells": [
  {
   "cell_type": "markdown",
   "id": "3fd90555",
   "metadata": {},
   "source": [
    "#### Importing libraries"
   ]
  },
  {
   "cell_type": "code",
   "execution_count": 1,
   "id": "d0446c4c",
   "metadata": {},
   "outputs": [],
   "source": [
    "import pandas as pd\n",
    "import numpy as np\n",
    "import matplotlib.pyplot as plt\n",
    "%matplotlib inline\n",
    "import seaborn as sns"
   ]
  },
  {
   "cell_type": "markdown",
   "id": "6b9ca3f3",
   "metadata": {},
   "source": [
    "#### Importing dataset and getting info about the dataset"
   ]
  },
  {
   "cell_type": "code",
   "execution_count": 2,
   "id": "3c34f166",
   "metadata": {
    "scrolled": true
   },
   "outputs": [
    {
     "data": {
      "text/html": [
       "<div>\n",
       "<style scoped>\n",
       "    .dataframe tbody tr th:only-of-type {\n",
       "        vertical-align: middle;\n",
       "    }\n",
       "\n",
       "    .dataframe tbody tr th {\n",
       "        vertical-align: top;\n",
       "    }\n",
       "\n",
       "    .dataframe thead th {\n",
       "        text-align: right;\n",
       "    }\n",
       "</style>\n",
       "<table border=\"1\" class=\"dataframe\">\n",
       "  <thead>\n",
       "    <tr style=\"text-align: right;\">\n",
       "      <th></th>\n",
       "      <th>lcavol</th>\n",
       "      <th>lweight</th>\n",
       "      <th>age</th>\n",
       "      <th>lbph</th>\n",
       "      <th>lcp</th>\n",
       "      <th>gleason</th>\n",
       "      <th>pgg45</th>\n",
       "      <th>lpsa</th>\n",
       "      <th>Target</th>\n",
       "    </tr>\n",
       "  </thead>\n",
       "  <tbody>\n",
       "    <tr>\n",
       "      <th>0</th>\n",
       "      <td>-0.579818</td>\n",
       "      <td>2.769459</td>\n",
       "      <td>50</td>\n",
       "      <td>-1.386294</td>\n",
       "      <td>-1.386294</td>\n",
       "      <td>6</td>\n",
       "      <td>0</td>\n",
       "      <td>-0.430783</td>\n",
       "      <td>0</td>\n",
       "    </tr>\n",
       "    <tr>\n",
       "      <th>1</th>\n",
       "      <td>-0.994252</td>\n",
       "      <td>3.319626</td>\n",
       "      <td>58</td>\n",
       "      <td>-1.386294</td>\n",
       "      <td>-1.386294</td>\n",
       "      <td>6</td>\n",
       "      <td>0</td>\n",
       "      <td>-0.162519</td>\n",
       "      <td>0</td>\n",
       "    </tr>\n",
       "    <tr>\n",
       "      <th>2</th>\n",
       "      <td>-0.510826</td>\n",
       "      <td>2.691243</td>\n",
       "      <td>74</td>\n",
       "      <td>-1.386294</td>\n",
       "      <td>-1.386294</td>\n",
       "      <td>7</td>\n",
       "      <td>20</td>\n",
       "      <td>-0.162519</td>\n",
       "      <td>0</td>\n",
       "    </tr>\n",
       "    <tr>\n",
       "      <th>3</th>\n",
       "      <td>-1.203973</td>\n",
       "      <td>3.282789</td>\n",
       "      <td>58</td>\n",
       "      <td>-1.386294</td>\n",
       "      <td>-1.386294</td>\n",
       "      <td>6</td>\n",
       "      <td>0</td>\n",
       "      <td>-0.162519</td>\n",
       "      <td>0</td>\n",
       "    </tr>\n",
       "    <tr>\n",
       "      <th>4</th>\n",
       "      <td>0.751416</td>\n",
       "      <td>3.432373</td>\n",
       "      <td>62</td>\n",
       "      <td>-1.386294</td>\n",
       "      <td>-1.386294</td>\n",
       "      <td>6</td>\n",
       "      <td>0</td>\n",
       "      <td>0.371564</td>\n",
       "      <td>0</td>\n",
       "    </tr>\n",
       "  </tbody>\n",
       "</table>\n",
       "</div>"
      ],
      "text/plain": [
       "     lcavol   lweight  age      lbph       lcp  gleason  pgg45      lpsa  \\\n",
       "0 -0.579818  2.769459   50 -1.386294 -1.386294        6      0 -0.430783   \n",
       "1 -0.994252  3.319626   58 -1.386294 -1.386294        6      0 -0.162519   \n",
       "2 -0.510826  2.691243   74 -1.386294 -1.386294        7     20 -0.162519   \n",
       "3 -1.203973  3.282789   58 -1.386294 -1.386294        6      0 -0.162519   \n",
       "4  0.751416  3.432373   62 -1.386294 -1.386294        6      0  0.371564   \n",
       "\n",
       "   Target  \n",
       "0       0  \n",
       "1       0  \n",
       "2       0  \n",
       "3       0  \n",
       "4       0  "
      ]
     },
     "execution_count": 2,
     "metadata": {},
     "output_type": "execute_result"
    }
   ],
   "source": [
    "df = pd.read_csv('prostate.csv')\n",
    "df.head()"
   ]
  },
  {
   "cell_type": "code",
   "execution_count": 3,
   "id": "2570b9b3",
   "metadata": {
    "scrolled": true
   },
   "outputs": [
    {
     "name": "stdout",
     "output_type": "stream",
     "text": [
      "<class 'pandas.core.frame.DataFrame'>\n",
      "RangeIndex: 97 entries, 0 to 96\n",
      "Data columns (total 9 columns):\n",
      " #   Column   Non-Null Count  Dtype  \n",
      "---  ------   --------------  -----  \n",
      " 0   lcavol   97 non-null     float64\n",
      " 1   lweight  97 non-null     float64\n",
      " 2   age      97 non-null     int64  \n",
      " 3   lbph     97 non-null     float64\n",
      " 4   lcp      97 non-null     float64\n",
      " 5   gleason  97 non-null     int64  \n",
      " 6   pgg45    97 non-null     int64  \n",
      " 7   lpsa     97 non-null     float64\n",
      " 8   Target   97 non-null     int64  \n",
      "dtypes: float64(5), int64(4)\n",
      "memory usage: 6.9 KB\n"
     ]
    }
   ],
   "source": [
    "df.info()\n",
    "\n",
    "# We do not have any null value in our dataset"
   ]
  },
  {
   "cell_type": "markdown",
   "id": "f42f4636",
   "metadata": {},
   "source": [
    "#### Checking correlation between the input variables"
   ]
  },
  {
   "cell_type": "code",
   "execution_count": 4,
   "id": "6053fb77",
   "metadata": {},
   "outputs": [
    {
     "data": {
      "text/html": [
       "<div>\n",
       "<style scoped>\n",
       "    .dataframe tbody tr th:only-of-type {\n",
       "        vertical-align: middle;\n",
       "    }\n",
       "\n",
       "    .dataframe tbody tr th {\n",
       "        vertical-align: top;\n",
       "    }\n",
       "\n",
       "    .dataframe thead th {\n",
       "        text-align: right;\n",
       "    }\n",
       "</style>\n",
       "<table border=\"1\" class=\"dataframe\">\n",
       "  <thead>\n",
       "    <tr style=\"text-align: right;\">\n",
       "      <th></th>\n",
       "      <th>lcavol</th>\n",
       "      <th>lweight</th>\n",
       "      <th>age</th>\n",
       "      <th>lbph</th>\n",
       "      <th>lcp</th>\n",
       "      <th>gleason</th>\n",
       "      <th>pgg45</th>\n",
       "      <th>lpsa</th>\n",
       "      <th>Target</th>\n",
       "    </tr>\n",
       "  </thead>\n",
       "  <tbody>\n",
       "    <tr>\n",
       "      <th>lcavol</th>\n",
       "      <td>1.000000</td>\n",
       "      <td>0.280521</td>\n",
       "      <td>0.225000</td>\n",
       "      <td>0.027350</td>\n",
       "      <td>0.675310</td>\n",
       "      <td>0.432417</td>\n",
       "      <td>0.433652</td>\n",
       "      <td>0.734460</td>\n",
       "      <td>0.538845</td>\n",
       "    </tr>\n",
       "    <tr>\n",
       "      <th>lweight</th>\n",
       "      <td>0.280521</td>\n",
       "      <td>1.000000</td>\n",
       "      <td>0.347969</td>\n",
       "      <td>0.442264</td>\n",
       "      <td>0.164537</td>\n",
       "      <td>0.056882</td>\n",
       "      <td>0.107354</td>\n",
       "      <td>0.433319</td>\n",
       "      <td>0.155385</td>\n",
       "    </tr>\n",
       "    <tr>\n",
       "      <th>age</th>\n",
       "      <td>0.225000</td>\n",
       "      <td>0.347969</td>\n",
       "      <td>1.000000</td>\n",
       "      <td>0.350186</td>\n",
       "      <td>0.127668</td>\n",
       "      <td>0.268892</td>\n",
       "      <td>0.276112</td>\n",
       "      <td>0.169593</td>\n",
       "      <td>0.117658</td>\n",
       "    </tr>\n",
       "    <tr>\n",
       "      <th>lbph</th>\n",
       "      <td>0.027350</td>\n",
       "      <td>0.442264</td>\n",
       "      <td>0.350186</td>\n",
       "      <td>1.000000</td>\n",
       "      <td>-0.006999</td>\n",
       "      <td>0.077820</td>\n",
       "      <td>0.078460</td>\n",
       "      <td>0.179809</td>\n",
       "      <td>-0.085843</td>\n",
       "    </tr>\n",
       "    <tr>\n",
       "      <th>lcp</th>\n",
       "      <td>0.675310</td>\n",
       "      <td>0.164537</td>\n",
       "      <td>0.127668</td>\n",
       "      <td>-0.006999</td>\n",
       "      <td>1.000000</td>\n",
       "      <td>0.514830</td>\n",
       "      <td>0.631528</td>\n",
       "      <td>0.548813</td>\n",
       "      <td>0.673111</td>\n",
       "    </tr>\n",
       "    <tr>\n",
       "      <th>gleason</th>\n",
       "      <td>0.432417</td>\n",
       "      <td>0.056882</td>\n",
       "      <td>0.268892</td>\n",
       "      <td>0.077820</td>\n",
       "      <td>0.514830</td>\n",
       "      <td>1.000000</td>\n",
       "      <td>0.751905</td>\n",
       "      <td>0.368987</td>\n",
       "      <td>0.320412</td>\n",
       "    </tr>\n",
       "    <tr>\n",
       "      <th>pgg45</th>\n",
       "      <td>0.433652</td>\n",
       "      <td>0.107354</td>\n",
       "      <td>0.276112</td>\n",
       "      <td>0.078460</td>\n",
       "      <td>0.631528</td>\n",
       "      <td>0.751905</td>\n",
       "      <td>1.000000</td>\n",
       "      <td>0.422316</td>\n",
       "      <td>0.457648</td>\n",
       "    </tr>\n",
       "    <tr>\n",
       "      <th>lpsa</th>\n",
       "      <td>0.734460</td>\n",
       "      <td>0.433319</td>\n",
       "      <td>0.169593</td>\n",
       "      <td>0.179809</td>\n",
       "      <td>0.548813</td>\n",
       "      <td>0.368987</td>\n",
       "      <td>0.422316</td>\n",
       "      <td>1.000000</td>\n",
       "      <td>0.566218</td>\n",
       "    </tr>\n",
       "    <tr>\n",
       "      <th>Target</th>\n",
       "      <td>0.538845</td>\n",
       "      <td>0.155385</td>\n",
       "      <td>0.117658</td>\n",
       "      <td>-0.085843</td>\n",
       "      <td>0.673111</td>\n",
       "      <td>0.320412</td>\n",
       "      <td>0.457648</td>\n",
       "      <td>0.566218</td>\n",
       "      <td>1.000000</td>\n",
       "    </tr>\n",
       "  </tbody>\n",
       "</table>\n",
       "</div>"
      ],
      "text/plain": [
       "           lcavol   lweight       age      lbph       lcp   gleason     pgg45  \\\n",
       "lcavol   1.000000  0.280521  0.225000  0.027350  0.675310  0.432417  0.433652   \n",
       "lweight  0.280521  1.000000  0.347969  0.442264  0.164537  0.056882  0.107354   \n",
       "age      0.225000  0.347969  1.000000  0.350186  0.127668  0.268892  0.276112   \n",
       "lbph     0.027350  0.442264  0.350186  1.000000 -0.006999  0.077820  0.078460   \n",
       "lcp      0.675310  0.164537  0.127668 -0.006999  1.000000  0.514830  0.631528   \n",
       "gleason  0.432417  0.056882  0.268892  0.077820  0.514830  1.000000  0.751905   \n",
       "pgg45    0.433652  0.107354  0.276112  0.078460  0.631528  0.751905  1.000000   \n",
       "lpsa     0.734460  0.433319  0.169593  0.179809  0.548813  0.368987  0.422316   \n",
       "Target   0.538845  0.155385  0.117658 -0.085843  0.673111  0.320412  0.457648   \n",
       "\n",
       "             lpsa    Target  \n",
       "lcavol   0.734460  0.538845  \n",
       "lweight  0.433319  0.155385  \n",
       "age      0.169593  0.117658  \n",
       "lbph     0.179809 -0.085843  \n",
       "lcp      0.548813  0.673111  \n",
       "gleason  0.368987  0.320412  \n",
       "pgg45    0.422316  0.457648  \n",
       "lpsa     1.000000  0.566218  \n",
       "Target   0.566218  1.000000  "
      ]
     },
     "execution_count": 4,
     "metadata": {},
     "output_type": "execute_result"
    }
   ],
   "source": [
    "corr = df.corr()\n",
    "corr\n",
    "\n",
    "# There exist a little multi-collinearity between the i/p features 'gleason' & 'pgg45', since the correlation value b/w them \n",
    "# is slightly > 0.75.\n",
    "# We might need to drop one of them if required."
   ]
  },
  {
   "cell_type": "markdown",
   "id": "5df53580",
   "metadata": {},
   "source": [
    "#### Separating data into training and testing dataset"
   ]
  },
  {
   "cell_type": "code",
   "execution_count": 5,
   "id": "4c5bd77b",
   "metadata": {},
   "outputs": [
    {
     "data": {
      "text/html": [
       "<div>\n",
       "<style scoped>\n",
       "    .dataframe tbody tr th:only-of-type {\n",
       "        vertical-align: middle;\n",
       "    }\n",
       "\n",
       "    .dataframe tbody tr th {\n",
       "        vertical-align: top;\n",
       "    }\n",
       "\n",
       "    .dataframe thead th {\n",
       "        text-align: right;\n",
       "    }\n",
       "</style>\n",
       "<table border=\"1\" class=\"dataframe\">\n",
       "  <thead>\n",
       "    <tr style=\"text-align: right;\">\n",
       "      <th></th>\n",
       "      <th>lcavol</th>\n",
       "      <th>lweight</th>\n",
       "      <th>age</th>\n",
       "      <th>lbph</th>\n",
       "      <th>lcp</th>\n",
       "      <th>gleason</th>\n",
       "      <th>pgg45</th>\n",
       "      <th>lpsa</th>\n",
       "    </tr>\n",
       "  </thead>\n",
       "  <tbody>\n",
       "    <tr>\n",
       "      <th>0</th>\n",
       "      <td>-0.579818</td>\n",
       "      <td>2.769459</td>\n",
       "      <td>50</td>\n",
       "      <td>-1.386294</td>\n",
       "      <td>-1.386294</td>\n",
       "      <td>6</td>\n",
       "      <td>0</td>\n",
       "      <td>-0.430783</td>\n",
       "    </tr>\n",
       "    <tr>\n",
       "      <th>1</th>\n",
       "      <td>-0.994252</td>\n",
       "      <td>3.319626</td>\n",
       "      <td>58</td>\n",
       "      <td>-1.386294</td>\n",
       "      <td>-1.386294</td>\n",
       "      <td>6</td>\n",
       "      <td>0</td>\n",
       "      <td>-0.162519</td>\n",
       "    </tr>\n",
       "    <tr>\n",
       "      <th>2</th>\n",
       "      <td>-0.510826</td>\n",
       "      <td>2.691243</td>\n",
       "      <td>74</td>\n",
       "      <td>-1.386294</td>\n",
       "      <td>-1.386294</td>\n",
       "      <td>7</td>\n",
       "      <td>20</td>\n",
       "      <td>-0.162519</td>\n",
       "    </tr>\n",
       "    <tr>\n",
       "      <th>3</th>\n",
       "      <td>-1.203973</td>\n",
       "      <td>3.282789</td>\n",
       "      <td>58</td>\n",
       "      <td>-1.386294</td>\n",
       "      <td>-1.386294</td>\n",
       "      <td>6</td>\n",
       "      <td>0</td>\n",
       "      <td>-0.162519</td>\n",
       "    </tr>\n",
       "    <tr>\n",
       "      <th>4</th>\n",
       "      <td>0.751416</td>\n",
       "      <td>3.432373</td>\n",
       "      <td>62</td>\n",
       "      <td>-1.386294</td>\n",
       "      <td>-1.386294</td>\n",
       "      <td>6</td>\n",
       "      <td>0</td>\n",
       "      <td>0.371564</td>\n",
       "    </tr>\n",
       "  </tbody>\n",
       "</table>\n",
       "</div>"
      ],
      "text/plain": [
       "     lcavol   lweight  age      lbph       lcp  gleason  pgg45      lpsa\n",
       "0 -0.579818  2.769459   50 -1.386294 -1.386294        6      0 -0.430783\n",
       "1 -0.994252  3.319626   58 -1.386294 -1.386294        6      0 -0.162519\n",
       "2 -0.510826  2.691243   74 -1.386294 -1.386294        7     20 -0.162519\n",
       "3 -1.203973  3.282789   58 -1.386294 -1.386294        6      0 -0.162519\n",
       "4  0.751416  3.432373   62 -1.386294 -1.386294        6      0  0.371564"
      ]
     },
     "execution_count": 5,
     "metadata": {},
     "output_type": "execute_result"
    }
   ],
   "source": [
    "X = df.drop('Target', axis =1)\n",
    "X.head()"
   ]
  },
  {
   "cell_type": "code",
   "execution_count": 6,
   "id": "c4c0ba93",
   "metadata": {},
   "outputs": [
    {
     "data": {
      "text/plain": [
       "0    0\n",
       "1    0\n",
       "2    0\n",
       "3    0\n",
       "4    0\n",
       "Name: Target, dtype: int64"
      ]
     },
     "execution_count": 6,
     "metadata": {},
     "output_type": "execute_result"
    }
   ],
   "source": [
    "Y = df['Target']\n",
    "Y.head()"
   ]
  },
  {
   "cell_type": "markdown",
   "id": "4762fd19",
   "metadata": {},
   "source": [
    "#### Standardizing the input features using StandardScaler"
   ]
  },
  {
   "cell_type": "code",
   "execution_count": 7,
   "id": "29ba9b68",
   "metadata": {},
   "outputs": [
    {
     "data": {
      "text/plain": [
       "array([[-1.64586143, -2.01663373, -1.87210098, -1.03002898, -0.86765522,\n",
       "        -1.04757113, -0.86895727, -2.53331785],\n",
       "       [-1.9993129 , -0.72575947, -0.79198919, -1.03002898, -0.86765522,\n",
       "        -1.04757113, -0.86895727, -2.29971238],\n",
       "       [-1.58702059, -2.20015441,  1.36823439, -1.03002898, -0.86765522,\n",
       "         0.34440695, -0.15615511, -2.29971238],\n",
       "       [-2.17817387, -0.81219129, -0.79198919, -1.03002898, -0.86765522,\n",
       "        -1.04757113, -0.86895727, -2.29971238],\n",
       "       [-0.5105128 , -0.46121761, -0.25193329, -1.03002898, -0.86765522,\n",
       "        -1.04757113, -0.86895727, -1.83463099],\n",
       "       [-2.04670586, -0.93880639, -1.87210098, -1.03002898, -0.86765522,\n",
       "        -1.04757113, -0.86895727, -1.49161747],\n",
       "       [-0.5226677 , -0.3646778 ,  0.01809466,  0.35670122, -0.86765522,\n",
       "        -1.04757113, -0.86895727, -1.49161747],\n",
       "       [-0.56020767, -0.20984102, -0.79198919,  0.99529051, -0.86765522,\n",
       "        -1.04757113, -0.86895727, -1.4141616 ],\n",
       "       [-1.81362657, -0.20984102, -2.2771429 , -1.03002898, -0.86765522,\n",
       "        -1.04757113, -0.86895727, -1.24618021],\n",
       "       [-0.9610521 , -0.90192675, -0.11691932, -1.03002898, -0.86765522,\n",
       "        -1.04757113, -0.86895727, -1.24618021],\n",
       "       [-0.93418834, -0.05819995,  0.15310863, -1.03002898, -0.86765522,\n",
       "        -1.04757113, -0.86895727, -1.05492666],\n",
       "       [-2.30021799, -0.07100389, -0.11691932,  0.80827605, -0.86765522,\n",
       "        -1.04757113, -0.86895727, -1.05492666],\n",
       "       [ 0.22465908, -1.42206859, -0.11691932, -1.03002898, -0.30083707,\n",
       "         0.34440695,  0.20024597, -1.05492666],\n",
       "       [ 0.10834583, -1.47986344,  0.42313658, -1.03002898, -0.86765522,\n",
       "         0.34440695, -0.69075673, -0.98428221],\n",
       "       [-0.12284403, -0.4385849 , -0.92700316, -1.03002898, -0.1807427 ,\n",
       "         0.34440695, -0.69075673, -0.94018137],\n",
       "       [ 0.16302259, -1.33245984,  0.2881226 , -1.03002898, -0.86765522,\n",
       "        -1.04757113, -0.86895727, -0.89820677],\n",
       "       [-1.50573493, -0.26497043,  0.8281785 ,  0.79248386, -0.30083707,\n",
       "         0.34440695,  0.20024597, -0.87795465],\n",
       "       [ 0.80038343,  0.04790351,  0.2881226 , -1.03002898,  0.39606027,\n",
       "        -1.04757113, -0.86895727, -0.85816274],\n",
       "       [-1.63076627, -0.84767487, -3.08722674, -1.03002898, -0.86765522,\n",
       "        -1.04757113, -0.86895727, -0.80135103],\n",
       "       [-0.9958673 ,  0.46089543,  0.8281785 ,  1.07937567, -0.86765522,\n",
       "        -1.04757113, -0.86895727, -0.76543644],\n",
       "       [-0.17279428, -0.4917387 , -0.65697521, -1.03002898, -0.86765522,\n",
       "        -1.04757113, -0.86895727, -0.73094466],\n",
       "       [ 0.60486894, -0.30009502, -0.52196124,  0.95226146,  1.09806826,\n",
       "         0.34440695, -0.15615511, -0.71419787],\n",
       "       [-1.61593366, -0.59376893, -0.65697521, -0.62277959, -0.86765522,\n",
       "        -1.04757113, -0.86895727, -0.68164068],\n",
       "       [ 0.36817665, -0.4161657 , -0.11691932,  0.23411435,  0.97627438,\n",
       "         0.34440695,  1.26944921, -0.66580745],\n",
       "       [-0.82278841,  0.09023368,  0.69316453,  1.03860789, -0.86765522,\n",
       "        -1.04757113, -0.86895727, -0.65025697],\n",
       "       [ 0.08264956, -1.18343728,  0.55815055,  0.13839656, -0.86765522,\n",
       "        -1.04757113, -0.86895727, -0.619965  ],\n",
       "       [-0.71399732,  0.21283186,  0.15310863, -1.03002898, -0.44509826,\n",
       "         0.34440695,  1.62585029, -0.59069151],\n",
       "       [-1.49290981,  0.55616588,  0.42313658,  1.18900155, -0.86765522,\n",
       "         0.34440695, -0.15615511, -0.57641572],\n",
       "       [-0.26415689, -1.17314627,  0.42313658,  0.08507392,  0.16402005,\n",
       "         0.34440695,  1.98225137, -0.54854763],\n",
       "       [ 0.9037135 , -0.59376893,  0.15310863, -1.03002898,  1.29311536,\n",
       "        -1.04757113, -0.86895727, -0.50834947],\n",
       "       [-0.90814498,  1.08218998,  0.15310863,  1.29047369, -0.44509826,\n",
       "        -1.04757113, -0.86895727, -0.48254597],\n",
       "       [-0.9958673 ,  0.4117698 ,  0.15310863,  1.11160717, -0.86765522,\n",
       "        -1.04757113, -0.86895727, -0.40942861],\n",
       "       [-0.0636628 , -1.38806321,  0.96319247,  0.80827605, -0.86765522,\n",
       "        -1.04757113, -0.86895727, -0.40942861],\n",
       "       [-1.14287478, -0.84767487, -1.33204508, -1.03002898, -0.86765522,\n",
       "        -1.04757113, -0.86895727, -0.39781765],\n",
       "       [-1.15993242, -0.96684975, -0.11691932, -1.03002898, -0.44509826,\n",
       "        -1.04757113, -0.86895727, -0.3750503 ],\n",
       "       [-0.03554419,  1.15183145,  0.01809466,  1.43488428, -0.86765522,\n",
       "         0.34440695, -0.69075673, -0.34197776],\n",
       "       [ 0.06234256,  0.0661392 ,  1.23322042, -0.47126026,  1.32103713,\n",
       "         1.73638502, -0.33435565, -0.27937807],\n",
       "       [-0.76124438, -2.94238594,  0.01809466, -1.03002898, -0.86765522,\n",
       "         0.34440695, -0.33435565, -0.24968869],\n",
       "       [ 1.118048  ,  1.07038089,  0.55815055,  0.8822505 ,  1.44637892,\n",
       "         0.34440695,  0.37844651, -0.23044356],\n",
       "       [-0.47120382, -1.44501572, -1.06201713,  0.5790429 ,  0.01211097,\n",
       "         0.34440695, -0.69075673, -0.17513581],\n",
       "       [-0.62209987, -1.14254072, -0.52196124, -1.03002898, -0.86765522,\n",
       "         3.1283631 ,  1.98225137, -0.15745387],\n",
       "       [ 0.07862666,  0.12592139,  0.55815055, -1.03002898, -0.86765522,\n",
       "         0.34440695, -0.51255619, -0.14874583],\n",
       "       [-0.65481608,  0.55616588, -0.25193329,  1.11787737, -0.1807427 ,\n",
       "        -1.04757113, -0.86895727, -0.13158654],\n",
       "       [ 0.35951816,  0.62873792, -0.38694727, -1.03002898,  0.71191882,\n",
       "         0.34440695, -0.65511662, -0.09011178],\n",
       "       [ 0.1160991 , -0.51489464,  0.2881226 ,  1.14240568, -0.1807427 ,\n",
       "         0.34440695, -0.15615511,  0.0377352 ],\n",
       "       [ 0.26772493, -0.55400095, -0.38694727,  0.35670122, -0.86765522,\n",
       "         0.34440695, -0.33435565,  0.06527282],\n",
       "       [ 1.17509901,  0.85993606,  2.04330426,  1.23266023,  2.03887464,\n",
       "         3.1283631 ,  2.69505353,  0.07872178],\n",
       "       [-0.15936323,  0.9530385 ,  0.55815055,  1.11787737, -0.1807427 ,\n",
       "         0.34440695,  0.55664705,  0.07872178],\n",
       "       [ 0.33747937, -0.30718329, -2.81719879, -1.03002898, -0.86765522,\n",
       "        -1.04757113, -0.86895727,  0.09851369],\n",
       "       [-0.11017138, -0.14270309,  0.8281785 ,  0.8822505 , -0.44509826,\n",
       "        -1.04757113, -0.86895727,  0.09851369],\n",
       "       [-0.22010989,  0.85561411,  0.55815055, -1.03002898, -0.86765522,\n",
       "         0.34440695,  0.91304813,  0.1553254 ],\n",
       "       [ 0.26448829,  1.42161501,  0.01809466,  1.36687051, -0.86765522,\n",
       "        -1.04757113, -0.86895727,  0.17346783],\n",
       "       [-0.71399732,  0.01100041,  0.01809466,  0.96483055,  0.16402005,\n",
       "         0.34440695,  1.62585029,  0.17943223],\n",
       "       [ 0.66269388,  1.15563955,  0.55815055,  1.15435171,  1.16912805,\n",
       "         0.34440695,  0.55664705,  0.18535613],\n",
       "       [ 1.53819093, -0.26497043, -0.65697521, -1.03002898, -0.86765522,\n",
       "         0.34440695, -0.69075673,  0.1970843 ],\n",
       "       [-0.07083973,  1.52790618,  0.2881226 ,  1.40088236, -0.86765522,\n",
       "         0.34440695, -0.33435565,  0.2086566 ],\n",
       "       [-0.32020395, -1.79233616, -2.2771429 , -1.03002898,  0.48894996,\n",
       "         0.34440695, -0.72639684,  0.26969337],\n",
       "       [-0.75586358,  0.31848952, -2.00711495,  0.91647239, -0.86765522,\n",
       "        -1.04757113, -0.86895727,  0.27503575],\n",
       "       [-0.68883756,  1.28880091,  0.8281785 ,  0.23411435, -0.86765522,\n",
       "         0.34440695, -0.15615511,  0.28562317],\n",
       "       [-0.24626419,  0.52151525, -0.38694727,  0.82752319, -0.86765522,\n",
       "         0.34440695,  0.55664705,  0.29086898],\n",
       "       [-0.76124438,  2.10127926,  1.23322042,  1.54225202, -0.86765522,\n",
       "        -1.04757113, -0.86895727,  0.31663434],\n",
       "       [ 0.55214455,  0.21283186, -0.11691932,  1.05246539,  1.50170584,\n",
       "         0.34440695,  0.55664705,  0.32673071],\n",
       "       [ 1.2159132 , -0.24414439,  1.09820645, -1.03002898,  1.24908762,\n",
       "         3.1283631 ,  2.51685299,  0.32673071],\n",
       "       [ 0.58394572,  0.67590388,  0.2881226 ,  1.32186427,  1.64596703,\n",
       "         0.34440695,  1.26944921,  0.35147113],\n",
       "       [ 0.61675184, -0.01392702,  0.01809466, -1.03002898, -0.86765522,\n",
       "        -1.04757113, -0.86895727,  0.35147113],\n",
       "       [ 0.09262458,  0.48634374, -0.38694727,  0.84625007, -0.1807427 ,\n",
       "         0.34440695, -0.15615511,  0.35633597],\n",
       "       [ 0.57385266,  0.58546452,  0.55815055,  1.16609525,  1.07914887,\n",
       "         0.34440695,  1.62585029,  0.38496775],\n",
       "       [ 0.72349772,  0.99008707,  1.09820645,  1.52927559, -0.1807427 ,\n",
       "         0.34440695, -0.51255619,  0.42173538],\n",
       "       [-1.53197866,  1.82921037,  0.69316453, -1.03002898, -0.86765522,\n",
       "        -1.04757113, -0.86895727,  0.42173538],\n",
       "       [-0.1331195 ,  2.70166095,  1.09820645,  1.54225202, -0.44509826,\n",
       "         0.34440695, -0.69075673,  0.43068977],\n",
       "       [ 0.43842708, -0.08387821, -0.52196124, -1.03002898,  1.07914887,\n",
       "         0.34440695,  1.26944921,  0.46561391],\n",
       "       [-0.16203258, -0.67539077,  1.77327632,  1.14240568, -0.86765522,\n",
       "         0.34440695,  0.02204543,  0.48675094],\n",
       "       [-0.11521787,  0.46089543,  0.69316453, -1.03002898,  0.28936185,\n",
       "         0.34440695, -0.15615511,  0.50329884],\n",
       "       [ 0.41700419, -0.92029383, -0.52196124,  0.23411435,  0.97627438,\n",
       "         3.1283631 ,  2.33865245,  0.51953812],\n",
       "       [ 1.40654082,  0.51652226,  0.69316453, -1.03002898,  1.50170584,\n",
       "         0.34440695, -0.15615511,  0.69391731],\n",
       "       [ 1.52756447, -0.85663081,  0.55815055, -0.1050703 ,  1.8689359 ,\n",
       "         0.34440695,  0.91304813,  0.74816076],\n",
       "       [ 0.56363872,  1.88843647,  1.09820645,  1.40088236,  0.48894996,\n",
       "         0.34440695,  1.26944921,  0.79630031],\n",
       "       [ 1.01288993,  1.70306454,  1.90829029,  1.54225202, -0.86765522,\n",
       "         0.34440695, -0.51255619,  0.83354436],\n",
       "       [ 1.10725223, -0.10984037,  0.69316453, -1.03002898,  1.98656829,\n",
       "         0.34440695,  1.62585029,  0.85295798],\n",
       "       [ 1.2190955 ,  0.45577339, -0.11691932, -1.03002898,  0.39606027,\n",
       "         0.34440695,  0.91304813,  0.90097779],\n",
       "       [ 0.10052143, -1.31058264,  0.2881226 ,  0.31819952,  0.28936185,\n",
       "         0.34440695,  0.55664705,  0.90356948],\n",
       "       [ 0.99242046, -0.3646778 , -0.92700316,  0.23411435,  1.80201365,\n",
       "         0.34440695,  1.26944921,  0.91641341],\n",
       "       [ 1.077152  ,  0.60960358,  1.77327632, -0.43510323,  0.5312501 ,\n",
       "         0.34440695,  0.20024597,  0.94648734],\n",
       "       [ 1.132233  ,  0.49140009,  0.15310863,  0.7030969 ,  1.38643629,\n",
       "         3.1283631 ,  1.62585029,  0.95140024],\n",
       "       [ 0.18109221,  0.1899692 , -0.52196124,  1.10527971,  0.71191882,\n",
       "         0.34440695,  0.20024597,  0.96597463],\n",
       "       [ 1.66548696, -0.25800887,  0.01809466, -1.03002898,  1.80201365,\n",
       "         0.34440695,  1.26944921,  1.00368795],\n",
       "       [ 0.57498003,  0.24110046, -0.79198919,  1.06605117, -0.86765522,\n",
       "        -1.04757113, -0.86895727,  1.04644915],\n",
       "       [ 0.32548825, -0.60986946, -0.25193329, -1.03002898,  0.34468877,\n",
       "         0.34440695,  0.20024597,  1.07454209],\n",
       "       [ 1.24310643,  2.55541175,  0.15310863, -1.03002898,  1.90019713,\n",
       "         0.34440695,  1.26944921,  1.31139383],\n",
       "       [ 0.18109221,  0.15525053,  1.63826234,  0.5790429 ,  0.71191882,\n",
       "         0.34440695,  1.80405083,  1.31945687],\n",
       "       [ 1.61742159,  1.10952005,  0.55815055, -1.03002898, -0.86765522,\n",
       "        -1.04757113, -0.86895727,  1.3509826 ],\n",
       "       [ 1.00883515,  0.11408649, -0.38694727,  0.86448408, -0.86765522,\n",
       "         0.34440695, -0.33435565,  1.43784081],\n",
       "       [ 1.26244405,  0.58060762,  0.55815055, -1.03002898,  1.07914887,\n",
       "         0.34440695,  1.26944921,  1.66041493],\n",
       "       [ 2.10739693,  0.62873792, -2.68218482, -1.03002898,  1.68826718,\n",
       "         0.34440695,  0.55664705,  1.92104373],\n",
       "       [ 1.3282669 , -0.54612667, -1.60207303, -1.03002898,  1.90019713,\n",
       "         0.34440695, -0.51255619,  2.32046525],\n",
       "       [ 1.30704467,  0.34014147,  0.55815055,  1.0100326 ,  1.24908762,\n",
       "         0.34440695,  1.98225137,  2.61164875],\n",
       "       [ 1.80971922,  0.81196061,  0.55815055,  0.23411435,  2.21673517,\n",
       "         0.34440695, -0.15615511,  2.70345173]])"
      ]
     },
     "execution_count": 7,
     "metadata": {},
     "output_type": "execute_result"
    }
   ],
   "source": [
    "from sklearn.preprocessing import StandardScaler\n",
    "\n",
    "scaler = StandardScaler()\n",
    "\n",
    "X_scaled = scaler.fit_transform(X)\n",
    "X_scaled"
   ]
  },
  {
   "cell_type": "code",
   "execution_count": 8,
   "id": "f66e2eb4",
   "metadata": {},
   "outputs": [
    {
     "data": {
      "text/html": [
       "<div>\n",
       "<style scoped>\n",
       "    .dataframe tbody tr th:only-of-type {\n",
       "        vertical-align: middle;\n",
       "    }\n",
       "\n",
       "    .dataframe tbody tr th {\n",
       "        vertical-align: top;\n",
       "    }\n",
       "\n",
       "    .dataframe thead th {\n",
       "        text-align: right;\n",
       "    }\n",
       "</style>\n",
       "<table border=\"1\" class=\"dataframe\">\n",
       "  <thead>\n",
       "    <tr style=\"text-align: right;\">\n",
       "      <th></th>\n",
       "      <th>lcavol</th>\n",
       "      <th>lweight</th>\n",
       "      <th>age</th>\n",
       "      <th>lbph</th>\n",
       "      <th>lcp</th>\n",
       "      <th>gleason</th>\n",
       "      <th>pgg45</th>\n",
       "      <th>lpsa</th>\n",
       "    </tr>\n",
       "  </thead>\n",
       "  <tbody>\n",
       "    <tr>\n",
       "      <th>0</th>\n",
       "      <td>-1.645861</td>\n",
       "      <td>-2.016634</td>\n",
       "      <td>-1.872101</td>\n",
       "      <td>-1.030029</td>\n",
       "      <td>-0.867655</td>\n",
       "      <td>-1.047571</td>\n",
       "      <td>-0.868957</td>\n",
       "      <td>-2.533318</td>\n",
       "    </tr>\n",
       "    <tr>\n",
       "      <th>1</th>\n",
       "      <td>-1.999313</td>\n",
       "      <td>-0.725759</td>\n",
       "      <td>-0.791989</td>\n",
       "      <td>-1.030029</td>\n",
       "      <td>-0.867655</td>\n",
       "      <td>-1.047571</td>\n",
       "      <td>-0.868957</td>\n",
       "      <td>-2.299712</td>\n",
       "    </tr>\n",
       "    <tr>\n",
       "      <th>2</th>\n",
       "      <td>-1.587021</td>\n",
       "      <td>-2.200154</td>\n",
       "      <td>1.368234</td>\n",
       "      <td>-1.030029</td>\n",
       "      <td>-0.867655</td>\n",
       "      <td>0.344407</td>\n",
       "      <td>-0.156155</td>\n",
       "      <td>-2.299712</td>\n",
       "    </tr>\n",
       "    <tr>\n",
       "      <th>3</th>\n",
       "      <td>-2.178174</td>\n",
       "      <td>-0.812191</td>\n",
       "      <td>-0.791989</td>\n",
       "      <td>-1.030029</td>\n",
       "      <td>-0.867655</td>\n",
       "      <td>-1.047571</td>\n",
       "      <td>-0.868957</td>\n",
       "      <td>-2.299712</td>\n",
       "    </tr>\n",
       "    <tr>\n",
       "      <th>4</th>\n",
       "      <td>-0.510513</td>\n",
       "      <td>-0.461218</td>\n",
       "      <td>-0.251933</td>\n",
       "      <td>-1.030029</td>\n",
       "      <td>-0.867655</td>\n",
       "      <td>-1.047571</td>\n",
       "      <td>-0.868957</td>\n",
       "      <td>-1.834631</td>\n",
       "    </tr>\n",
       "  </tbody>\n",
       "</table>\n",
       "</div>"
      ],
      "text/plain": [
       "     lcavol   lweight       age      lbph       lcp   gleason     pgg45  \\\n",
       "0 -1.645861 -2.016634 -1.872101 -1.030029 -0.867655 -1.047571 -0.868957   \n",
       "1 -1.999313 -0.725759 -0.791989 -1.030029 -0.867655 -1.047571 -0.868957   \n",
       "2 -1.587021 -2.200154  1.368234 -1.030029 -0.867655  0.344407 -0.156155   \n",
       "3 -2.178174 -0.812191 -0.791989 -1.030029 -0.867655 -1.047571 -0.868957   \n",
       "4 -0.510513 -0.461218 -0.251933 -1.030029 -0.867655 -1.047571 -0.868957   \n",
       "\n",
       "       lpsa  \n",
       "0 -2.533318  \n",
       "1 -2.299712  \n",
       "2 -2.299712  \n",
       "3 -2.299712  \n",
       "4 -1.834631  "
      ]
     },
     "execution_count": 8,
     "metadata": {},
     "output_type": "execute_result"
    }
   ],
   "source": [
    "# Scaling training data\n",
    "\n",
    "X_scaled_df = pd.DataFrame(X_scaled, columns = X.columns)\n",
    "X_scaled_df.head()"
   ]
  },
  {
   "cell_type": "markdown",
   "id": "4567eafa",
   "metadata": {},
   "source": [
    "#### Splitting the data into training and testing datasets"
   ]
  },
  {
   "cell_type": "code",
   "execution_count": 9,
   "id": "afd0d7b8",
   "metadata": {},
   "outputs": [],
   "source": [
    "from sklearn.model_selection import train_test_split\n",
    "\n",
    "X_train, X_test, y_train, y_test = train_test_split(X_scaled, Y, train_size = 0.7, random_state = 32)"
   ]
  },
  {
   "cell_type": "markdown",
   "id": "2db3534e",
   "metadata": {},
   "source": [
    "#### Model Development -> Training & Testing the model\n",
    "-- Importing model (KNN), fitting on X_train (scaled) & Y_train, and making Prediction"
   ]
  },
  {
   "cell_type": "code",
   "execution_count": 10,
   "id": "9f404791",
   "metadata": {},
   "outputs": [
    {
     "data": {
      "text/html": [
       "<style>#sk-container-id-1 {color: black;background-color: white;}#sk-container-id-1 pre{padding: 0;}#sk-container-id-1 div.sk-toggleable {background-color: white;}#sk-container-id-1 label.sk-toggleable__label {cursor: pointer;display: block;width: 100%;margin-bottom: 0;padding: 0.3em;box-sizing: border-box;text-align: center;}#sk-container-id-1 label.sk-toggleable__label-arrow:before {content: \"▸\";float: left;margin-right: 0.25em;color: #696969;}#sk-container-id-1 label.sk-toggleable__label-arrow:hover:before {color: black;}#sk-container-id-1 div.sk-estimator:hover label.sk-toggleable__label-arrow:before {color: black;}#sk-container-id-1 div.sk-toggleable__content {max-height: 0;max-width: 0;overflow: hidden;text-align: left;background-color: #f0f8ff;}#sk-container-id-1 div.sk-toggleable__content pre {margin: 0.2em;color: black;border-radius: 0.25em;background-color: #f0f8ff;}#sk-container-id-1 input.sk-toggleable__control:checked~div.sk-toggleable__content {max-height: 200px;max-width: 100%;overflow: auto;}#sk-container-id-1 input.sk-toggleable__control:checked~label.sk-toggleable__label-arrow:before {content: \"▾\";}#sk-container-id-1 div.sk-estimator input.sk-toggleable__control:checked~label.sk-toggleable__label {background-color: #d4ebff;}#sk-container-id-1 div.sk-label input.sk-toggleable__control:checked~label.sk-toggleable__label {background-color: #d4ebff;}#sk-container-id-1 input.sk-hidden--visually {border: 0;clip: rect(1px 1px 1px 1px);clip: rect(1px, 1px, 1px, 1px);height: 1px;margin: -1px;overflow: hidden;padding: 0;position: absolute;width: 1px;}#sk-container-id-1 div.sk-estimator {font-family: monospace;background-color: #f0f8ff;border: 1px dotted black;border-radius: 0.25em;box-sizing: border-box;margin-bottom: 0.5em;}#sk-container-id-1 div.sk-estimator:hover {background-color: #d4ebff;}#sk-container-id-1 div.sk-parallel-item::after {content: \"\";width: 100%;border-bottom: 1px solid gray;flex-grow: 1;}#sk-container-id-1 div.sk-label:hover label.sk-toggleable__label {background-color: #d4ebff;}#sk-container-id-1 div.sk-serial::before {content: \"\";position: absolute;border-left: 1px solid gray;box-sizing: border-box;top: 0;bottom: 0;left: 50%;z-index: 0;}#sk-container-id-1 div.sk-serial {display: flex;flex-direction: column;align-items: center;background-color: white;padding-right: 0.2em;padding-left: 0.2em;position: relative;}#sk-container-id-1 div.sk-item {position: relative;z-index: 1;}#sk-container-id-1 div.sk-parallel {display: flex;align-items: stretch;justify-content: center;background-color: white;position: relative;}#sk-container-id-1 div.sk-item::before, #sk-container-id-1 div.sk-parallel-item::before {content: \"\";position: absolute;border-left: 1px solid gray;box-sizing: border-box;top: 0;bottom: 0;left: 50%;z-index: -1;}#sk-container-id-1 div.sk-parallel-item {display: flex;flex-direction: column;z-index: 1;position: relative;background-color: white;}#sk-container-id-1 div.sk-parallel-item:first-child::after {align-self: flex-end;width: 50%;}#sk-container-id-1 div.sk-parallel-item:last-child::after {align-self: flex-start;width: 50%;}#sk-container-id-1 div.sk-parallel-item:only-child::after {width: 0;}#sk-container-id-1 div.sk-dashed-wrapped {border: 1px dashed gray;margin: 0 0.4em 0.5em 0.4em;box-sizing: border-box;padding-bottom: 0.4em;background-color: white;}#sk-container-id-1 div.sk-label label {font-family: monospace;font-weight: bold;display: inline-block;line-height: 1.2em;}#sk-container-id-1 div.sk-label-container {text-align: center;}#sk-container-id-1 div.sk-container {/* jupyter's `normalize.less` sets `[hidden] { display: none; }` but bootstrap.min.css set `[hidden] { display: none !important; }` so we also need the `!important` here to be able to override the default hidden behavior on the sphinx rendered scikit-learn.org. See: https://github.com/scikit-learn/scikit-learn/issues/21755 */display: inline-block !important;position: relative;}#sk-container-id-1 div.sk-text-repr-fallback {display: none;}</style><div id=\"sk-container-id-1\" class=\"sk-top-container\"><div class=\"sk-text-repr-fallback\"><pre>KNeighborsClassifier(n_neighbors=3)</pre><b>In a Jupyter environment, please rerun this cell to show the HTML representation or trust the notebook. <br />On GitHub, the HTML representation is unable to render, please try loading this page with nbviewer.org.</b></div><div class=\"sk-container\" hidden><div class=\"sk-item\"><div class=\"sk-estimator sk-toggleable\"><input class=\"sk-toggleable__control sk-hidden--visually\" id=\"sk-estimator-id-1\" type=\"checkbox\" checked><label for=\"sk-estimator-id-1\" class=\"sk-toggleable__label sk-toggleable__label-arrow\">KNeighborsClassifier</label><div class=\"sk-toggleable__content\"><pre>KNeighborsClassifier(n_neighbors=3)</pre></div></div></div></div></div>"
      ],
      "text/plain": [
       "KNeighborsClassifier(n_neighbors=3)"
      ]
     },
     "execution_count": 10,
     "metadata": {},
     "output_type": "execute_result"
    }
   ],
   "source": [
    "from sklearn.neighbors import KNeighborsClassifier\n",
    "\n",
    "knn = KNeighborsClassifier(n_neighbors = 3)        # Taking K = 3\n",
    "knn.fit(X_train, y_train)"
   ]
  },
  {
   "cell_type": "code",
   "execution_count": 11,
   "id": "3854dcb6",
   "metadata": {},
   "outputs": [
    {
     "data": {
      "text/plain": [
       "array([1, 1, 0, 1, 0, 0, 1, 0, 0, 0, 0, 0, 0, 0, 0, 1, 0, 1, 0, 0, 0, 1,\n",
       "       0, 0, 0, 0, 0, 0, 0, 0], dtype=int64)"
      ]
     },
     "execution_count": 11,
     "metadata": {},
     "output_type": "execute_result"
    }
   ],
   "source": [
    "y_pred = knn.predict(X_test)\n",
    "y_pred"
   ]
  },
  {
   "cell_type": "markdown",
   "id": "6d694af2",
   "metadata": {},
   "source": [
    "#### Model Evaluation - using Confusion matrix and Classification report"
   ]
  },
  {
   "cell_type": "code",
   "execution_count": 12,
   "id": "555a71b4",
   "metadata": {},
   "outputs": [
    {
     "name": "stdout",
     "output_type": "stream",
     "text": [
      "Confusion Matrix\n",
      "[[21  3]\n",
      " [ 2  4]]\n",
      "\n",
      " Classification Report\n",
      "              precision    recall  f1-score   support\n",
      "\n",
      "           0       0.91      0.88      0.89        24\n",
      "           1       0.57      0.67      0.62         6\n",
      "\n",
      "    accuracy                           0.83        30\n",
      "   macro avg       0.74      0.77      0.75        30\n",
      "weighted avg       0.84      0.83      0.84        30\n",
      "\n"
     ]
    }
   ],
   "source": [
    "from sklearn.metrics import confusion_matrix, classification_report\n",
    "\n",
    "print('Confusion Matrix')\n",
    "print(confusion_matrix(y_test, y_pred))\n",
    "print('\\n Classification Report')\n",
    "print(classification_report(y_test, y_pred))"
   ]
  },
  {
   "cell_type": "markdown",
   "id": "e601ce14",
   "metadata": {},
   "source": [
    "#### Elbow Method - To find a good value of K with the help of 'cross_val_score' using 'Error_rate'"
   ]
  },
  {
   "cell_type": "code",
   "execution_count": 13,
   "id": "1fbcfd32",
   "metadata": {},
   "outputs": [
    {
     "data": {
      "image/png": "[encoded data removed]",
      "text/plain": [
       "<Figure size 800x600 with 1 Axes>"
      ]
     },
     "metadata": {},
     "output_type": "display_data"
    }
   ],
   "source": [
    "from sklearn.model_selection import cross_val_score\n",
    "\n",
    "error_rate = []\n",
    "\n",
    "for k in range(1,30):\n",
    "    knn = KNeighborsClassifier(n_neighbors = k)\n",
    "    score = cross_val_score(knn, X_scaled_df, Y, cv = 10)\n",
    "    error_rate.append(1 - score.mean())\n",
    "\n",
    "\n",
    "plt.figure(figsize=(8,6))\n",
    "\n",
    "plt.plot(range(1,30), error_rate, '--go')\n",
    "\n",
    "plt.title('Error Rate v/s K Value')\n",
    "plt.xlabel('K value')\n",
    "plt.ylabel('Error Rate')\n",
    "\n",
    "\n",
    "# Displaying the best value of K, at which accuracy rate is highest.\n",
    "\n",
    "plt.plot(range(1,30)[error_rate.index(min(error_rate))], min(error_rate), 'rx')\n",
    "plt.show()"
   ]
  },
  {
   "cell_type": "markdown",
   "id": "c24edb8d",
   "metadata": {},
   "source": [
    "### Getting best Value of K as 13"
   ]
  },
  {
   "cell_type": "markdown",
   "id": "ef7554af",
   "metadata": {},
   "source": [
    "#### Plotting confusion matrix and classification report at K=13"
   ]
  },
  {
   "cell_type": "code",
   "execution_count": 14,
   "id": "2bae1011",
   "metadata": {},
   "outputs": [
    {
     "name": "stdout",
     "output_type": "stream",
     "text": [
      "With K = 13\n",
      "\n",
      " Confusion Matrix\n",
      "[[22  2]\n",
      " [ 2  4]]\n",
      "\n",
      " Classification Report\n",
      "              precision    recall  f1-score   support\n",
      "\n",
      "           0       0.92      0.92      0.92        24\n",
      "           1       0.67      0.67      0.67         6\n",
      "\n",
      "    accuracy                           0.87        30\n",
      "   macro avg       0.79      0.79      0.79        30\n",
      "weighted avg       0.87      0.87      0.87        30\n",
      "\n"
     ]
    }
   ],
   "source": [
    "knn = KNeighborsClassifier(n_neighbors = 13)\n",
    "\n",
    "knn.fit(X_train, y_train)\n",
    "pred = knn.predict(X_test)\n",
    "\n",
    "print('With K = 13')\n",
    "print('\\n Confusion Matrix')\n",
    "print(confusion_matrix(y_test, pred))\n",
    "print('\\n Classification Report')\n",
    "print(classification_report(y_test, pred))"
   ]
  },
  {
   "cell_type": "markdown",
   "id": "967aeada",
   "metadata": {},
   "source": [
    "### Accuracy score improved from 83% to 87%"
   ]
  },
  {
   "cell_type": "markdown",
   "id": "dcc97b50",
   "metadata": {},
   "source": [
    "#### Visualising the outcome -> Building \"auc_curve\" & calculating \"roc_auc_score\" at besk value of K"
   ]
  },
  {
   "cell_type": "code",
   "execution_count": 15,
   "id": "3b8ced65",
   "metadata": {
    "scrolled": false
   },
   "outputs": [
    {
     "name": "stdout",
     "output_type": "stream",
     "text": [
      "auc score =  0.7916666666666666\n"
     ]
    },
    {
     "data": {
      "image/png": "[encoded data removed]",
      "text/plain": [
       "<Figure size 640x480 with 1 Axes>"
      ]
     },
     "metadata": {},
     "output_type": "display_data"
    }
   ],
   "source": [
    "from sklearn.metrics import roc_curve, roc_auc_score\n",
    "\n",
    "fpr, tpr, _ = roc_curve(y_test, pred)\n",
    "\n",
    "auc = roc_auc_score(y_test, pred)\n",
    "print('auc score = ', auc)\n",
    "\n",
    "plt.plot(fpr, tpr, label = 'auc : ' + str(auc))\n",
    "plt.legend(loc=4)\n",
    "\n",
    "plt.title(\"Receiver Operating Characteristic Curve (ROC)\")\n",
    "plt.xlabel('FPR')\n",
    "plt.ylabel('TPR')\n",
    "\n",
    "plt.show()"
   ]
  },
  {
   "cell_type": "markdown",
   "id": "12c52b1b",
   "metadata": {},
   "source": [
    "#### Plotting Prediction probability values on ROC Curve"
   ]
  },
  {
   "cell_type": "code",
   "execution_count": 16,
   "id": "50e4e0c3",
   "metadata": {
    "scrolled": false
   },
   "outputs": [
    {
     "name": "stdout",
     "output_type": "stream",
     "text": [
      "auc score =  0.9583333333333333\n"
     ]
    },
    {
     "data": {
      "image/png": "[encoded data removed]",
      "text/plain": [
       "<Figure size 640x480 with 1 Axes>"
      ]
     },
     "metadata": {},
     "output_type": "display_data"
    }
   ],
   "source": [
    "pred_prob = knn.predict_proba(X_test)[::,1]       # Converting probability values into 1-D Array\n",
    "\n",
    "fpr, tpr, _ = roc_curve(y_test, pred_prob)\n",
    "\n",
    "auc = roc_auc_score(y_test, pred_prob)\n",
    "print('auc score = ', auc)\n",
    "\n",
    "plt.plot(fpr, tpr, label = 'auc : ' + str(auc))\n",
    "plt.legend(loc=4)\n",
    "\n",
    "plt.title(\"Receiver Operating Characteristic Curve (ROC)\")\n",
    "plt.xlabel('FPR')\n",
    "plt.ylabel('TPR')\n",
    "\n",
    "plt.show()"
   ]
  },
  {
   "cell_type": "code",
   "execution_count": null,
   "id": "56c9d1f7",
   "metadata": {},
   "outputs": [],
   "source": []
  }
 ],
 "metadata": {
  "kernelspec": {
   "display_name": "Python 3 (ipykernel)",
   "language": "python",
   "name": "python3"
  },
  "language_info": {
   "codemirror_mode": {
    "name": "ipython",
    "version": 3
   },
   "file_extension": ".py",
   "mimetype": "text/x-python",
   "name": "python",
   "nbconvert_exporter": "python",
   "pygments_lexer": "ipython3",
   "version": "3.11.7"
  }
 },
 "nbformat": 4,
 "nbformat_minor": 5
}
